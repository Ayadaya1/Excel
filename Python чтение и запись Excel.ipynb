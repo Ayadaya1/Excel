{
 "cells": [
  {
   "cell_type": "markdown",
   "id": "435ffdb3",
   "metadata": {},
   "source": [
    "# Работа с файлами Microsoft Excel и LibreOffice Calc (чтение и запись)"
   ]
  },
  {
   "cell_type": "markdown",
   "id": "e153bb35",
   "metadata": {},
   "source": [
    "* [1. Использование библиотек xlrd и xlwt](#1.-Использование-библиотек-xlrd-и-xlwt)\n",
    "  * [1.1. Чтение файла xls, xlsx или ods с помощью библиотеки xlrd](#1.1.-Чтение-файла-xls,-xlsx-или-ods-с-помощью-библиотеки-xlrd)\n",
    "  * [1.2. Запись в файл xlsx с помощью библиотеки xlwt](#1.2.-Запись-в-файл-xlsx-с-помощью-библиотеки-xlwt)\n",
    "\n",
    "* [2. Использование библиотеки openpyxl](#2.-Использование-библиотеки-openpyxl)\n",
    "\n",
    "* [3. Использование COM](#3.-Использование-COM)\n",
    "\n",
    "* [Работа с файлами и каталогами](#Работа-с-файлами-и-каталогами)\n",
    "\n",
    "* [Варианты заданий](#Варианты-заданий)"
   ]
  },
  {
   "cell_type": "markdown",
   "id": "3f4d6d7c",
   "metadata": {},
   "source": [
    "## 1. Использование библиотек xlrd и xlwt"
   ]
  },
  {
   "cell_type": "markdown",
   "id": "ae58eb48",
   "metadata": {},
   "source": [
    "Необходимо установить библиотеку `xlrd` версии 1.2.0 (более поздние версии не поддерживают работу с `xlsx`); для этого в командной строке Anaconda надо выполнить команду:\n",
    "    \n",
    "    conda install -c anaconda xlrd=1.2.0 \n",
    "    \n",
    "После этого можно будет использовать:\n",
    "\n",
    "    import xlrd   \n",
    "    \n",
    "Документация о пакете `xlrd`: http://xlrd.readthedocs.io/en/latest/api.html"
   ]
  },
  {
   "cell_type": "markdown",
   "id": "00c0f429",
   "metadata": {},
   "source": [
    "###  1.1. Чтение файла xls, xlsx или ods с помощью библиотеки xlrd"
   ]
  },
  {
   "cell_type": "markdown",
   "id": "7898690f",
   "metadata": {},
   "source": [
    "Создадим файл `xlsx` в Microsoft Excel или OpenOffice/LibreOffice Calc. Заполним любой информацией ячеку с адресом B3, а также несколько строк ниже (левые 3-4 колонки)."
   ]
  },
  {
   "cell_type": "code",
   "execution_count": null,
   "id": "cfb45955",
   "metadata": {},
   "outputs": [],
   "source": [
    "# Открываем рабочую книгу Excel (для повышения скорости работы не читаем информацию о формате ячеек):\n",
    "rb = xlrd.open_workbook(\"ИмяФайла.xlsx\", formatting_info=False) \n",
    "print(\"В рабочай книге имеется {} листов.\".format(rb.nsheets))\n",
    "print(\"Их имена: {}\".format(rb.sheet_names()))\n",
    "# Начинаем работать с самым первым рабочим листом (они нумеруются с нуля):\n",
    "sheet = rb.sheet_by_index(0) \n",
    "# Другой вариант - не по номеру листа, а по имени: sheet_by_name(\"ИмяЛиста\").\n",
    "\n",
    "# Читаем содержимое ячейки, указывая номера строки и столбца \n",
    "# (нумерация начинается с нуля, поэтому адрес B3 соответствует строке 1 и столбцу 2):\n",
    "x1 = sheet.cell(1, 2).value.strip() # strip() удаляет лидирующие и конечные пробельные символы в строке, \n",
    "#                                     оставляя без изменения внутренние пробелы.\n",
    "print(x1)"
   ]
  },
  {
   "cell_type": "code",
   "execution_count": null,
   "id": "b1d86159",
   "metadata": {},
   "outputs": [],
   "source": [
    "# Чтение всех строк:\n",
    "for i in range(sheet.nrows):  # Цикл по номеру строки (начиная с нулевой).\n",
    "    row = sheet.row_values(i) # Получили список ячеек в i-й строке.\n",
    "    # Далее можно организовать цикл по всем ячейкам строки или обращаться к ячейке с известным номером столбца."
   ]
  },
  {
   "cell_type": "markdown",
   "id": "d6dd772f",
   "metadata": {},
   "source": [
    "Чтобы преобразовать строковое представление числа `sx` в само число `x`:\n",
    "\n",
    "    x = int(sx) if sx else 0\n",
    "или\n",
    "    \n",
    "    x = float(sx) if sx else 0\n",
    "    \n",
    "Если строка `sx` пустая, то получается 0. \n",
    "\n",
    "\n",
    "Чтобы узнать тип ячейки:\n",
    "\n",
    "    sheet.cell(1, 2).cell.ctype\n",
    "    \n",
    "Возвращаемые значения: `xlrd.XL_CELL_TEXT`, `xlrd.XL_CELL_NUMBER`, `xlrd.XL_CELL_EMPTY` и др. (см. документацию)."
   ]
  },
  {
   "cell_type": "code",
   "execution_count": null,
   "id": "5aecff30",
   "metadata": {},
   "outputs": [],
   "source": []
  },
  {
   "cell_type": "markdown",
   "id": "1cc7332e",
   "metadata": {},
   "source": [
    "###  1.2. Запись в файл xlsx с помощью библиотеки xlwt\n",
    "\n",
    "Документация: http://xlwt.readthedocs.io/en/latest/.\n"
   ]
  },
  {
   "cell_type": "code",
   "execution_count": null,
   "id": "e906008e",
   "metadata": {},
   "outputs": [],
   "source": [
    "import xlwt\n",
    "from datetime import datetime\n",
    "\n",
    "style0 = xlwt.easyxf('font: name Times New Roman, color-index red, bold on',\n",
    "    num_format_str='#,##0.00')\n",
    "style1 = xlwt.easyxf(num_format_str='D-MMM-YY')\n",
    "\n",
    "wb = xlwt.Workbook()\n",
    "ws = wb.add_sheet('MySheet1')\n",
    "ws.write(0, 0, 1234.56, style0)\n",
    "ws.write(1, 0, datetime.now(), style1)\n",
    "ws.write(2, 0, 1)\n",
    "ws.write(2, 1, 1)\n",
    "ws.write(2, 2, xlwt.Formula(\"A3+B3\"))\n",
    "wb.save('ИмяФайла.xls')"
   ]
  },
  {
   "cell_type": "code",
   "execution_count": null,
   "id": "fc0216eb",
   "metadata": {},
   "outputs": [],
   "source": []
  },
  {
   "cell_type": "markdown",
   "id": "f61590c3",
   "metadata": {},
   "source": [
    "## 2. Использование библиотеки openpyxl"
   ]
  },
  {
   "cell_type": "markdown",
   "id": "3c6b3418",
   "metadata": {},
   "source": [
    "Документация по openpyxl: http://openpyxl.readthedocs.io/en/latest/tutorial.html."
   ]
  },
  {
   "cell_type": "code",
   "execution_count": null,
   "id": "f4a2e44d",
   "metadata": {},
   "outputs": [],
   "source": [
    "# Открытие рабочей книги, выбор рабочего листа и чтение данных в ячейках:\n",
    "from openpyxl import load_workbook\n",
    "wb = load_workbook('ИмяФайла1.xlsx')\n",
    "print(wb.sheetnames) # Список имён рабочих листов.\n",
    "ws = wb.worksheets[0]\n",
    "print(ws[\"A1\"].value)\n",
    "print(ws.cell(row=1, column=2).value) # Строки и столбцы нумеруются с 1."
   ]
  },
  {
   "cell_type": "code",
   "execution_count": null,
   "id": "5dcb3531",
   "metadata": {},
   "outputs": [],
   "source": [
    "# Создание рабочей книги, запись данных в ячейки и сохранение:\n",
    "from openpyxl import Workbook\n",
    "workbook = Workbook()\n",
    "ws = workbook.active\n",
    "ws[\"A1\"] = \"Hello\"\n",
    "ws[\"B1\"] = \"world!\"\n",
    "workbook.save(filename=\"ИмяФайла2.xlsx\")"
   ]
  },
  {
   "cell_type": "code",
   "execution_count": null,
   "id": "6c8fbe75",
   "metadata": {},
   "outputs": [],
   "source": []
  },
  {
   "cell_type": "code",
   "execution_count": null,
   "id": "63bfc676",
   "metadata": {},
   "outputs": [],
   "source": []
  },
  {
   "cell_type": "code",
   "execution_count": null,
   "id": "e98fc5ca",
   "metadata": {},
   "outputs": [],
   "source": []
  },
  {
   "cell_type": "markdown",
   "id": "43a27662",
   "metadata": {},
   "source": [
    "## 3. Использование COM"
   ]
  },
  {
   "cell_type": "code",
   "execution_count": null,
   "id": "89b8656e",
   "metadata": {},
   "outputs": [],
   "source": [
    "import win32com.client as win32\n",
    "\n",
    "def openWorkbook(xlapp, xlfile):\n",
    "    try:        \n",
    "        xlwb = xlapp.Workbooks(xlfile)            \n",
    "    except Exception as e:\n",
    "        try:\n",
    "            xlwb = xlapp.Workbooks.Open(xlfile)\n",
    "        except Exception as e:\n",
    "            print(e)\n",
    "            xlwb = None                    \n",
    "    return(xlwb)\n",
    "\n",
    "filename = \"ИмяФайла.xlsx\"\n",
    "try:\n",
    "    excel = win32.gencache.EnsureDispatch('Excel.Application')\n",
    "    wb = openWorkbook(excel, filename)\n",
    "    ws = wb.Worksheets('Лист1') \n",
    "    excel.Visible = False\n",
    "    rg = ws.UsedRange\n",
    "    print(rg.Cells(1,1))\n",
    "    rows = rg.Rows # Число строк.\n",
    "    k = 0\n",
    "    for row in rows:\n",
    "        print(k, row)\n",
    "        k += 1\n",
    "    print(\"Прочитано {} строк.\".format(k))\n",
    "    wb.Close(True)\n",
    "    excel.Quit()        \n",
    "\n",
    "except Exception as e:\n",
    "    print(e)\n",
    "\n",
    "finally:\n",
    "    ws = None\n",
    "    wb = None\n",
    "    excel = None"
   ]
  },
  {
   "cell_type": "code",
   "execution_count": null,
   "id": "d1cf6157",
   "metadata": {},
   "outputs": [],
   "source": []
  },
  {
   "cell_type": "code",
   "execution_count": null,
   "id": "497858a4",
   "metadata": {},
   "outputs": [],
   "source": []
  },
  {
   "cell_type": "markdown",
   "id": "a169ad22",
   "metadata": {},
   "source": [
    "## Работа с файлами и каталогами"
   ]
  },
  {
   "cell_type": "code",
   "execution_count": null,
   "id": "a13b4dbe",
   "metadata": {},
   "outputs": [],
   "source": [
    "# Получение списка файлов с заданным расширением, \n",
    "# находящихся в заданном каталоге (вместе со всеми его подкаталогами):\n",
    "import os \n",
    "path = \"Путь_к_каталогу\" \n",
    "filelist = []\n",
    "for root, dirs, files in os.walk(path): \n",
    "    for file in files: \n",
    "        if(file.endswith(\".xlsx\") or file.endswith(\".xls\") or file.endswith(\".xlsm\")):\n",
    "            filename = os.path.join(root, file)\n",
    "            filelist.append(filename)\n",
    "            print(filename)"
   ]
  },
  {
   "cell_type": "code",
   "execution_count": null,
   "id": "c6feb216",
   "metadata": {},
   "outputs": [],
   "source": []
  },
  {
   "cell_type": "code",
   "execution_count": null,
   "id": "782782b3",
   "metadata": {},
   "outputs": [],
   "source": []
  },
  {
   "cell_type": "markdown",
   "id": "f311148f",
   "metadata": {},
   "source": [
    "## Варианты заданий"
   ]
  },
  {
   "cell_type": "markdown",
   "id": "0d80b2eb",
   "metadata": {},
   "source": [
    "---\n",
    "\n",
    "Задание, общее для всех вариантов:\n",
    "\n",
    "Релизовать свой вариант задания в виде отдельных функций, выполняющих чтение исходных данных, формирование результата, запись результата в файл,... \n",
    "\n",
    "Сначала для чтения и записи файлов Excel использовать библиотеки xlrd и xlwt.\n",
    "Затем переписать для библиотеки openpyxl. \n",
    "\n",
    "Стремиться отделить друг от друга фрагменты кода, зависящие и не зависящие от библиотек Excel.\n",
    "\n",
    "Не патайтесь сразу решить всю задачу полностью: старайтесь разделить процесс решения задачи на последовательность этапов.\n",
    "\n",
    "После проверки работоспособности обеих программ реализовать иерархию классов \n",
    "для работы с файлами Excel с использованием любого набора библиотек Excel по выбору пользователя (т.е. виртуальный класс Base и три его наследника для каждого варианта используемых библиотек; в классах-наследниках необходимо реализовать методы, которые в базовом классе Base объявлены виртуальными по причине своей зависимости от той библиотеки, которая используется для работы с файлом Excel).\n",
    "\n",
    "----\n",
    "\n",
    "Работа должна быть выполнена в группах по 2 человека. Каждый отвечает за свои функции или методы класса.\n",
    "\n",
    "----\n",
    "\n",
    "\n",
    "1. Прочитать список сотрудников (файл \"Исходные_данные\\Сотрудники_(фрагмент).xlsx\") и сформировать таблицу по кадровому составу Университета (\"Образцы_результатов\\Справочники.xlsx\", лист \"Кафедры\").\n",
    "\n",
    "2. Прочитать список студентов (файл \"Исходные_данные\\Список-студентов_(фрагмент).xlsx\") и сформировать таблицу по кол-ву групп (\"Образцы_результатов\\Учебная-нагрузка-2022-2023.xlsm\", лист \"Группы\").\n",
    "\n",
    "3. Читать учебные планы (Исходные_данные\\Уч-планы\\*.*) и календарный график (Исходные_данные\\Календарный-График-2022-2023_(ЗФ).xlsx), сформировать учебные сетки по кафедрам (\"Образцы_результатов\\Сетки\\*.*)  (начать с упрощенного варианта - без учёта календарного графика).\n",
    "\n",
    "4. (группа 3 чел). Читать уч. планы () и уч.сетки (\"Образцы_результатов\\Сетки\\*.*), построить таблицу соответствия \"Имя файла уч.плана\" - \"Номер кафедры\" - \"Код дисциплины\" - \"Номер строки сетки\"  (в последней колонке писать -1, если дисциплина пропущена в сетках), а также построить таблицу для лишних дисциплин в сетках: \"Номер кафедры\" - \"Номер строки сетки, которая лишняя\".\n",
    "\n",
    "5. Читая учебные планы, сформировать список дисциплин, преподаваемых в 2022-23 учебном году (см. шаблоны, лист \"Дисц22\").\n",
    "\n",
    "6. Читая учебные планы, сформировать список всех преподаваемых дисциплин (см. шаблоны, лист \"Дисциплины\").\n",
    "\n",
    "7. Читая учебные планы, сформировать список всех специльностей/направлений и специализаций/профилей  (см. шаблоны, листы \"Направления\" и \"Профили\").\n",
    "\n",
    "8. Читая список студентов, сформировать список групп и подсчитать количество студентов в каждой группе  (см. шаблоны, лист \"Группы\").\n",
    "\n",
    "9. Читая план набора на 2022-23 уч. год, сформировать списки будущих групп, разделяя абитуриентов поровну между группами (последняя группа не должна быть самой многочисленной).\n",
    "\n",
    "ToDo: 10. Читая учебные планы и список переносов дисциплин, сформировать ...\n",
    "\n",
    "----\n",
    "\n",
    "1.    Абасов Артур Русланович\n",
    "2.    Антакова Екатерина Алексеевна\n",
    "3.    Горпинич Римма Андреевна\n",
    "4.    Крутилов Илья Павлович\n",
    "5.    Куракин Федор Павлович\n",
    "6.    Люткин Сергей Сергеевич\n",
    "7.    Пономарева Мария Александровна\n",
    "8.    Серко Сергей Игоревич\n",
    "9.    Сидоров Владислав Геннадьевич\n",
    "10.    Смирнова Анастасия Александровна\n",
    "11.    Соколов Алексей Кириллович\n",
    "12.    Степанов Владимир Дмитриевич\n",
    "13.    Худолей Сергей Алексеевич\n",
    "14.    Шадт Максим Андреевич\n",
    "15.    Шокин Дмитрий Эдуардович\n",
    "\n"
   ]
  },
  {
   "cell_type": "code",
   "execution_count": null,
   "id": "093ded50",
   "metadata": {},
   "outputs": [],
   "source": []
  }
 ],
 "metadata": {
  "kernelspec": {
   "display_name": "Python 3",
   "language": "python",
   "name": "python3"
  },
  "language_info": {
   "codemirror_mode": {
    "name": "ipython",
    "version": 3
   },
   "file_extension": ".py",
   "mimetype": "text/x-python",
   "name": "python",
   "nbconvert_exporter": "python",
   "pygments_lexer": "ipython3",
   "version": "3.8.10"
  }
 },
 "nbformat": 4,
 "nbformat_minor": 5
}
